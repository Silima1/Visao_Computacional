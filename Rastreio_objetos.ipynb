{
 "cells": [
  {
   "cell_type": "markdown",
   "id": "155698f4",
   "metadata": {},
   "source": [
    "# Rastreio de objetos com CSRT"
   ]
  },
  {
   "cell_type": "code",
   "execution_count": 2,
   "id": "034baeb4",
   "metadata": {},
   "outputs": [],
   "source": [
    "import cv2"
   ]
  },
  {
   "cell_type": "code",
   "execution_count": 3,
   "id": "b482ae3c",
   "metadata": {},
   "outputs": [],
   "source": [
    "Rastreador = cv2.TrackerCSRT_create() # DEFINICAO DO ALGORITMO"
   ]
  },
  {
   "cell_type": "code",
   "execution_count": 4,
   "id": "2fad4b4b",
   "metadata": {},
   "outputs": [],
   "source": [
    "video = cv2.VideoCapture('../Dados/Bases_de_Dados/rua.mp4') # CARREGAMENTO DO VIDEO"
   ]
  },
  {
   "cell_type": "code",
   "execution_count": 5,
   "id": "9a2fbf0f",
   "metadata": {},
   "outputs": [],
   "source": [
    "ok, frame = video.read() # CAPTURAR FRAME DO VIDEO\n",
    "bbox = cv2.selectROI(frame)# INDICACAO DA REGIAO DO VIDEO A RASTREAR\n",
    "#print(bbox)"
   ]
  },
  {
   "cell_type": "code",
   "execution_count": 6,
   "id": "de238f5e",
   "metadata": {},
   "outputs": [],
   "source": [
    "ok = Rastreador.init(frame, bbox)"
   ]
  },
  {
   "cell_type": "code",
   "execution_count": 7,
   "id": "428cc4cb",
   "metadata": {},
   "outputs": [],
   "source": [
    "while True:\n",
    "    ok, frame = video.read()\n",
    "    if not ok:\n",
    "        break\n",
    "        \n",
    "    ok, bbox = Rastreador.update(frame)\n",
    "    #print(bbox)\n",
    "    if ok:\n",
    "        (x, y, w, h) = [int(v) for v in bbox] # DESENHO CARTESIANO DA DIMENSAO DO OBJETO \n",
    "        cv2.rectangle(frame, (x, y), (x+w, y+h), (0,255,0), 2, 1)\n",
    "    else:\n",
    "        cv2.putText(frame, 'Falha no rastreamento', (100, 80), cv2.FONT_HERSHEY_SIMPLEX, .75, (0,0,255), 2)\n",
    "        \n",
    "    cv2.imshow('Rastreamento em curso', frame)\n",
    "    if cv2.waitKey(1) & 0XFF ==27: # PERMITE AO UTILIZADOR PRESSIONAR ESC PARA SAIR\n",
    "        break\n",
    "        "
   ]
  },
  {
   "cell_type": "code",
   "execution_count": null,
   "id": "ab269a98",
   "metadata": {},
   "outputs": [],
   "source": []
  },
  {
   "cell_type": "code",
   "execution_count": null,
   "id": "cf1d259a",
   "metadata": {},
   "outputs": [],
   "source": []
  }
 ],
 "metadata": {
  "kernelspec": {
   "display_name": "Python 3 (ipykernel)",
   "language": "python",
   "name": "python3"
  },
  "language_info": {
   "codemirror_mode": {
    "name": "ipython",
    "version": 3
   },
   "file_extension": ".py",
   "mimetype": "text/x-python",
   "name": "python",
   "nbconvert_exporter": "python",
   "pygments_lexer": "ipython3",
   "version": "3.9.13"
  }
 },
 "nbformat": 4,
 "nbformat_minor": 5
}
